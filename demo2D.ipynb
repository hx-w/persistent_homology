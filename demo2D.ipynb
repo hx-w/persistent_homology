{
 "cells": [
  {
   "cell_type": "code",
   "execution_count": null,
   "metadata": {},
   "outputs": [],
   "source": [
    "# -*- coding: utf-8 -*-\n",
    "\n",
    "import numpy as np\n",
    "import matplotlib.pyplot as plt\n",
    "\n",
    "from lib import pittore\n",
    "from lib import persistent_homology as ph\n",
    "\n",
    "import fast_smith\n",
    "\n",
    "n = 50\n",
    "t = np.linspace(0, 2*np.pi, num=n)\n",
    "#equations for lemniscate\n",
    "x = np.cos(t) / (np.sin(t)**2 + 1)\n",
    "y = np.cos(t) * np.sin(t) / (np.sin(t)**2 + 1)\n",
    "\n",
    "plt.plot(x, y)\n",
    "plt.show()"
   ]
  },
  {
   "cell_type": "code",
   "execution_count": null,
   "metadata": {},
   "outputs": [],
   "source": [
    "x2 = np.random.uniform(-0.03, 0.03, n) + x\n",
    "y2 = np.random.uniform(-0.03, 0.03, n) + y\n",
    "z2 = np.zeros_like(x2)\n",
    "\n",
    "fig, ax = plt.subplots()\n",
    "ax.scatter(x2, y2)\n",
    "plt.show()"
   ]
  },
  {
   "cell_type": "code",
   "execution_count": null,
   "metadata": {},
   "outputs": [],
   "source": [
    "pointcloud = np.array(list(zip(x2, y2, z2)))\n",
    "\n",
    "graph = ph.build_graph(data=pointcloud, epsilon=0.3)\n",
    "rips_complex = ph.rips_filtration(graph=graph, k=3)\n",
    "pittore.draw_complex(origin_data=pointcloud[:, :2], rips_complex=rips_complex[0], bound=[-1.2, 1.2, -1, 1])\n",
    "\n",
    "rips_complex"
   ]
  },
  {
   "cell_type": "markdown",
   "metadata": {},
   "source": [
    "- 计算边界矩阵\n",
    "- 简化矩阵\n",
    "- 计算betti numbers"
   ]
  },
  {
   "cell_type": "code",
   "execution_count": null,
   "metadata": {},
   "outputs": [],
   "source": [
    "bm = ph.filter_boundary_matrix(rips_complex)\n",
    "bm = bm.astype('<i8').astype(np.uint8)"
   ]
  },
  {
   "cell_type": "code",
   "execution_count": null,
   "metadata": {},
   "outputs": [],
   "source": [
    "reduced_bm = fast_smith.smith_normal_form(bm)\n",
    "np.count_nonzero(reduced_bm)"
   ]
  },
  {
   "cell_type": "code",
   "execution_count": null,
   "metadata": {},
   "outputs": [],
   "source": [
    "intervals = ph.read_intervals(reduced_bm, rips_complex[1])\n",
    "intervals"
   ]
  },
  {
   "cell_type": "code",
   "execution_count": null,
   "metadata": {},
   "outputs": [],
   "source": [
    "persist = ph.read_persistence(intervals, rips_complex)\n",
    "persist"
   ]
  },
  {
   "cell_type": "code",
   "execution_count": null,
   "metadata": {},
   "outputs": [],
   "source": [
    "pittore.graph_barcode(persist, 0)\n",
    "pittore.graph_barcode(persist, 1)"
   ]
  },
  {
   "cell_type": "code",
   "execution_count": null,
   "metadata": {},
   "outputs": [],
   "source": [
    "pittore.graph_diagram(persist)"
   ]
  }
 ],
 "metadata": {
  "kernelspec": {
   "display_name": "shape_env",
   "language": "python",
   "name": "python3"
  },
  "language_info": {
   "codemirror_mode": {
    "name": "ipython",
    "version": 3
   },
   "file_extension": ".py",
   "mimetype": "text/x-python",
   "name": "python",
   "nbconvert_exporter": "python",
   "pygments_lexer": "ipython3",
   "version": "3.9.16"
  }
 },
 "nbformat": 4,
 "nbformat_minor": 2
}
