{
 "cells": [
  {
   "cell_type": "code",
   "execution_count": 1,
   "metadata": {},
   "outputs": [
    {
     "ename": "ModuleNotFoundError",
     "evalue": "No module named 'fast_smith'",
     "output_type": "error",
     "traceback": [
      "\u001b[0;31m---------------------------------------------------------------------------\u001b[0m",
      "\u001b[0;31mModuleNotFoundError\u001b[0m                       Traceback (most recent call last)",
      "\u001b[1;32m/Users/carol/Desktop/Repo/TDA/demo3D.ipynb 单元格 1\u001b[0m line \u001b[0;36m1\n\u001b[1;32m      <a href='vscode-notebook-cell:/Users/carol/Desktop/Repo/TDA/demo3D.ipynb#W1sZmlsZQ%3D%3D?line=6'>7</a>\u001b[0m \u001b[39mfrom\u001b[39;00m \u001b[39mlib\u001b[39;00m \u001b[39mimport\u001b[39;00m pittore\n\u001b[1;32m      <a href='vscode-notebook-cell:/Users/carol/Desktop/Repo/TDA/demo3D.ipynb#W1sZmlsZQ%3D%3D?line=7'>8</a>\u001b[0m \u001b[39mfrom\u001b[39;00m \u001b[39mlib\u001b[39;00m \u001b[39mimport\u001b[39;00m persistent_homology \u001b[39mas\u001b[39;00m ph\n\u001b[0;32m---> <a href='vscode-notebook-cell:/Users/carol/Desktop/Repo/TDA/demo3D.ipynb#W1sZmlsZQ%3D%3D?line=9'>10</a>\u001b[0m \u001b[39mimport\u001b[39;00m \u001b[39mfast_smith\u001b[39;00m\n\u001b[1;32m     <a href='vscode-notebook-cell:/Users/carol/Desktop/Repo/TDA/demo3D.ipynb#W1sZmlsZQ%3D%3D?line=12'>13</a>\u001b[0m mesh \u001b[39m=\u001b[39m trimesh\u001b[39m.\u001b[39mload(\u001b[39m'\u001b[39m\u001b[39mstatic/monocle.stl\u001b[39m\u001b[39m'\u001b[39m)\n\u001b[1;32m     <a href='vscode-notebook-cell:/Users/carol/Desktop/Repo/TDA/demo3D.ipynb#W1sZmlsZQ%3D%3D?line=13'>14</a>\u001b[0m pntcloud \u001b[39m=\u001b[39m mesh\u001b[39m.\u001b[39mvertices\n",
      "\u001b[0;31mModuleNotFoundError\u001b[0m: No module named 'fast_smith'"
     ]
    }
   ],
   "source": [
    "# -*- coding: utf-8 -*-\n",
    "\n",
    "import numpy as np\n",
    "import matplotlib.pyplot as plt\n",
    "import trimesh\n",
    "\n",
    "from lib import pittore\n",
    "from lib import persistent_homology as ph\n",
    "\n",
    "import fast_smith\n",
    "\n",
    "\n",
    "mesh = trimesh.load('static/monocle.stl')\n",
    "pntcloud = mesh.vertices\n",
    "bounds = 1.1 * mesh.bounds[:, :2].T.flatten()\n",
    "\n",
    "fig, ax = plt.subplots()\n",
    "ax.scatter(pntcloud[:, 0], pntcloud[:, 1])\n",
    "plt.show()\n",
    "\n",
    "mesh.show()"
   ]
  },
  {
   "cell_type": "code",
   "execution_count": null,
   "metadata": {},
   "outputs": [],
   "source": [
    "graph = ph.build_graph(data=pntcloud, epsilon=4)\n",
    "rips_complex = ph.rips_filtration(graph=graph, k=3)\n",
    "pittore.draw_complex(origin_data=pntcloud[:, :2], rips_complex=rips_complex[0], bound=bounds)\n",
    "\n",
    "rips_complex"
   ]
  },
  {
   "cell_type": "code",
   "execution_count": null,
   "metadata": {},
   "outputs": [],
   "source": [
    "# compute boundary matrix and reduce to smith form\n",
    "bm = ph.filter_boundary_matrix(rips_complex)\n",
    "bm = bm.astype('<i8').astype(np.uint8)\n",
    "\n",
    "reduced_bm = fast_smith.smith_normal_form(bm)"
   ]
  },
  {
   "cell_type": "code",
   "execution_count": null,
   "metadata": {},
   "outputs": [],
   "source": [
    "intervals = ph.read_intervals(reduced_bm, rips_complex[1])\n",
    "persist = ph.read_persistence(intervals, rips_complex)\n",
    "persist"
   ]
  },
  {
   "cell_type": "code",
   "execution_count": null,
   "metadata": {},
   "outputs": [],
   "source": [
    "pittore.graph_barcode(persist, 0)\n",
    "pittore.graph_barcode(persist, 1)\n",
    "pittore.graph_barcode(persist, 2)\n",
    "pittore.graph_barcode(persist, 3)"
   ]
  },
  {
   "cell_type": "code",
   "execution_count": null,
   "metadata": {},
   "outputs": [],
   "source": [
    "pittore.graph_diagram(persist)"
   ]
  }
 ],
 "metadata": {
  "kernelspec": {
   "display_name": "shape_env",
   "language": "python",
   "name": "python3"
  },
  "language_info": {
   "codemirror_mode": {
    "name": "ipython",
    "version": 3
   },
   "file_extension": ".py",
   "mimetype": "text/x-python",
   "name": "python",
   "nbconvert_exporter": "python",
   "pygments_lexer": "ipython3",
   "version": "3.9.16"
  }
 },
 "nbformat": 4,
 "nbformat_minor": 2
}
